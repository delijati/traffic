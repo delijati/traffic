{
 "metadata": {
  "name": "",
  "signature": "sha256:1986fe8306091f89339f01195abfe636f188c260c65fd244ca4a9f97956e647c"
 },
 "nbformat": 3,
 "nbformat_minor": 0,
 "worksheets": [
  {
   "cells": [
    {
     "cell_type": "markdown",
     "metadata": {},
     "source": [
      "# Install\n",
      "\n",
      "    ipython pyzmq tornado matplotlib sklearn\n",
      "    \n",
      "The link to the data\n",
      "\n",
      "http://www.trafi.fi/palvelut/avoin_data\n",
      "\n",
      "Hints for lookup https://github.com/GaelVaroquaux/sklearn_europython_2014\n",
      "\n",
      "## Run\n",
      "\n",
      "Go the directory with the notebook ipynb and run ipython\n",
      "\n",
      "    $ ipython notebook --matplotlib\n"
     ]
    },
    {
     "cell_type": "code",
     "collapsed": false,
     "input": [
      "import numpy as np\n",
      "import pandas as pd\n",
      "mydata = pd.read_csv('data/data.csv')\n",
      "#traffic = np.genfromtxt('data/data.csv', delimiter=\",\")"
     ],
     "language": "python",
     "metadata": {},
     "outputs": [
      {
       "output_type": "stream",
       "stream": "stderr",
       "text": [
        "/usr/lib/python2.7/dist-packages/pandas/io/parsers.py:1070: DtypeWarning: Columns (3,16,20,23,28) have mixed types. Specify dtype option on import or set low_memory=False.\n",
        "  data = self._reader.read(nrows)\n"
       ]
      }
     ],
     "prompt_number": 5
    },
    {
     "cell_type": "code",
     "collapsed": false,
     "input": [
      "print mydata.head()"
     ],
     "language": "python",
     "metadata": {},
     "outputs": [
      {
       "output_type": "stream",
       "stream": "stdout",
       "text": [
        "  ajoneuvoluokka ensirekisterointipvm  ajoneuvoryhma ajoneuvonkaytto  \\\n",
        "0             M1           1997-01-10            NaN               1   \n",
        "1             M1           1984-07-09            NaN               1   \n",
        "2             M1           1990-05-08            NaN               5   \n",
        "3             M1           2003-08-08            NaN               1   \n",
        "4             M1           2003-10-02            NaN               1   \n",
        "\n",
        "   kayttoonottopvm vari  ovienLukumaara korityyppi  ohjaamotyyppi  \\\n",
        "0         19970110    5               5         AC              1   \n",
        "1         19840000    1             NaN        NaN              1   \n",
        "2         19900508    9             NaN        NaN              1   \n",
        "3         20030808    2             NaN         AB            NaN   \n",
        "4         20031002    6             NaN         AA            NaN   \n",
        "\n",
        "   istumapaikkojenLkm  omamassa  teknSuurSallKokmassa  \\\n",
        "0                   5      1320                  1780   \n",
        "1                   5       780                  1175   \n",
        "2                   5      1060                  1505   \n",
        "3                   5       955                   NaN   \n",
        "4                   5      1462                  1920   \n",
        "\n",
        "   tieliikSuurSallKokmassa  ajonKokPituus  ajonLeveys  ajonKorkeus  \\\n",
        "0                     1780           4600        1720          NaN   \n",
        "1                     1155            NaN        1590          NaN   \n",
        "2                     1435           4270        1680          NaN   \n",
        "3                     1420           3770        1640         1420   \n",
        "4                     1920           4670        1760         1450   \n",
        "\n",
        "  kayttovoima  iskutilavuus  suurinNettoteho  sylintereidenLkm      \n",
        "0           1          1780               66                 4 ...  \n",
        "1           1          1110              NaN                 4 ...  \n",
        "2           1          1900               88                 4 ...  \n",
        "3           1          1140               43                 4 ...  \n",
        "4           1          1990              114                 4 ...  \n",
        "\n",
        "[5 rows x 32 columns]\n"
       ]
      }
     ],
     "prompt_number": 8
    },
    {
     "cell_type": "code",
     "collapsed": false,
     "input": [
      "%matplotlib inline\n",
      "mydata.Co2.hist()"
     ],
     "language": "python",
     "metadata": {},
     "outputs": [
      {
       "metadata": {},
       "output_type": "pyout",
       "prompt_number": 12,
       "text": [
        "<matplotlib.axes.AxesSubplot at 0x7fd53043bc10>"
       ]
      },
      {
       "metadata": {},
       "output_type": "display_data",
       "png": "[encoded data removed]",
       "text": [
        "<matplotlib.figure.Figure at 0x7fd52ff439d0>"
       ]
      }
     ],
     "prompt_number": 12
    },
    {
     "cell_type": "code",
     "collapsed": false,
     "input": [
      "import matplotlib.pyplot as pyplot\n",
      "pyplot.plot(mydata.ajonKorkeus[0:100000])"
     ],
     "language": "python",
     "metadata": {},
     "outputs": [
      {
       "metadata": {},
       "output_type": "pyout",
       "prompt_number": 28,
       "text": [
        "[<matplotlib.lines.Line2D at 0x7fd52ccf3a10>]"
       ]
      },
      {
       "metadata": {},
       "output_type": "display_data",
       "png": "[encoded data removed]",
       "text": [
        "<matplotlib.figure.Figure at 0x7fd52dda64d0>"
       ]
      }
     ],
     "prompt_number": 28
    },
    {
     "cell_type": "code",
     "collapsed": false,
     "input": [
      "import matplotlib.pyplot as pyplot\n",
      "print mydata.kayttoonottopvm.ftypes\n",
      "#mydata.kayttoonottopvm[1000:2000].hist()\n",
      "kay = mydata.kayttoonottopvm.copy()\n",
      "kay.sort()\n",
      "#print kay\n",
      "kay[10000:200000].hist()"
     ],
     "language": "python",
     "metadata": {},
     "outputs": [
      {
       "output_type": "stream",
       "stream": "stdout",
       "text": [
        "int64:dense\n"
       ]
      },
      {
       "metadata": {},
       "output_type": "pyout",
       "prompt_number": 48,
       "text": [
        "<matplotlib.axes.AxesSubplot at 0x7fd51ab9c350>"
       ]
      },
      {
       "metadata": {},
       "output_type": "display_data",
       "png": "[encoded data removed]",
       "text": [
        "<matplotlib.figure.Figure at 0x7fd51aba8350>"
       ]
      }
     ],
     "prompt_number": 48
    },
    {
     "cell_type": "code",
     "collapsed": false,
     "input": [],
     "language": "python",
     "metadata": {},
     "outputs": []
    }
   ],
   "metadata": {}
  }
 ]
}